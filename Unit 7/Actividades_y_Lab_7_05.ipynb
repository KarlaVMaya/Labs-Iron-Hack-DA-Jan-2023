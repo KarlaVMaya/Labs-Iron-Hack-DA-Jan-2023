{
  "nbformat": 4,
  "nbformat_minor": 0,
  "metadata": {
    "colab": {
      "provenance": []
    },
    "kernelspec": {
      "name": "python3",
      "display_name": "Python 3"
    },
    "language_info": {
      "name": "python"
    }
  },
  "cells": [
    {
      "cell_type": "markdown",
      "source": [
        "7.05 Activity 1\n",
        "\n",
        "List down three more examples of cases where ANOVA could be useful."
      ],
      "metadata": {
        "id": "bAJZAnF9Nu4W"
      }
    },
    {
      "cell_type": "code",
      "execution_count": null,
      "metadata": {
        "id": "6oucErxmNrxd"
      },
      "outputs": [],
      "source": [
        "\"\"\"\n",
        "Marketing research: ANOVA can be used in marketing research to compare the effectiveness of different \n",
        "marketing strategies on customer behavior, such as buying habits or brand loyalty. For instance, \n",
        "a company may use ANOVA to test whether there is a significant difference in sales between different \n",
        "promotional offers, such as discounts or free gifts.\n",
        "\n",
        "Medical research: ANOVA can be used in medical research to compare the effectiveness of different \n",
        "treatments or therapies on patient outcomes. For example, a clinical trial may use ANOVA\n",
        " to test whether there is a significant difference in the recovery time of patients who receive\n",
        "  different treatments for a particular disease.\n",
        "\n",
        "Education research: ANOVA can be used in education research to compare the effectiveness of different\n",
        " teaching methods or instructional materials on student learning outcomes. For example, \n",
        " a study may use ANOVA to test whether there is a significant difference in test scores between students\n",
        "  who receive different types of instruction, such as lecture-based versus discussion-based instruction.\n",
        "\"\"\""
      ]
    },
    {
      "cell_type": "markdown",
      "source": [
        "7.05 Activity 2\n",
        "\n",
        "What are some of the assumptions of one way ANOVA? This is one good resource that you can use to read more about ANOVA and other statistics content: external resource."
      ],
      "metadata": {
        "id": "2RKKIHTLO1xX"
      }
    },
    {
      "cell_type": "code",
      "source": [
        "\"\"\"\n",
        "Independence: The observations within each group must be independent of one another.\n",
        "\n",
        "Normality: The data within each group must be normally distributed. You can check this assumption \n",
        "by creating histograms, normal probability plots, or using normality tests such as the Shapiro-Wilk test.\n",
        "\n",
        "Homogeneity of variances: The variance of the data within each group must be roughly equal. \n",
        "You can check this assumption using statistical tests such as Levene's test or the Bartlett's test.\n",
        "\n",
        "Random sampling: The samples from each group should be randomly selected from the population.\n",
        "\n",
        "If these assumptions are not met, it can affect the accuracy of the ANOVA results. \n",
        "There are some techniques to handle violations of these assumptions, such as transformations, \n",
        "nonparametric tests, or robust statistical methods, but these are beyond the scope of this answer. \n",
        "It is important to check the assumptions before interpreting the results of a one-way ANOVA.\n",
        "\"\"\""
      ],
      "metadata": {
        "id": "peQ4hBumYzyA"
      },
      "execution_count": null,
      "outputs": []
    },
    {
      "cell_type": "markdown",
      "source": [
        "7.05 Activity 3\n",
        "\n",
        "Activity 3 is actually the Part 1 in the Inferential statistics- ANOVA."
      ],
      "metadata": {
        "id": "C-K7N7IbSb5G"
      }
    },
    {
      "cell_type": "markdown",
      "source": [
        "Lab | Inferential statistics - ANOVA\n",
        "\n",
        "Note: The following lab is divided in 2 sections which represent activities 3 and 4.\n",
        "\n",
        "Part 1\n",
        "\n",
        "In this activity, we will look at another example. Your task is to understand the problem and write down all the steps to set up ANOVA. After the next lesson, we will ask you to solve this problem using Python. Here are the steps that you would need to work on: - Null hypothesis - Alternate hypothesis - Level of significance - Test statistic - P-value - F table\n",
        "\n",
        "Context\n",
        "Suppose you are working as an analyst in a microprocessor chip manufacturing plant. You have been given the task of analyzing a plasma etching process with respect to changing Power (in Watts) of the plasma beam. Data was collected and provided to you to conduct statistical analysis and check if changing the power of the plasma beam has any effect on the etching rate by the machine. You will conduct ANOVA and check if there is any difference in the mean etching rate for different levels of power. You can find the data anova_lab_data.xlsx file in the files_for_lab folder\n",
        "\n",
        "- State the null hypothesis\n",
        "\n",
        "- State the alternate hypothesis\n",
        "\n",
        "- What is the significance level\n",
        "\n",
        "- What are the degrees of freedom of model, error terms, and total DoF\n",
        "\n",
        "- Data was collected randomly and provided to you in the table as shown: link to the image - Data\n",
        "\n"
      ],
      "metadata": {
        "id": "u4mPRU8RYrkx"
      }
    },
    {
      "cell_type": "markdown",
      "source": [
        "*H0 : la potencia no influye en el proceso de grabado con plasma (en promedio)*\n",
        "\n",
        "- Todas las medias de los grupos son iguales\n",
        "\n",
        "*HA : la potencia  influye en el proceso de grabado con plasma (en promedio)*\n",
        "La media o medias de los grupos no son iguales\n",
        "\n",
        "Significance level: 5%\n",
        "\n",
        "Degrees of freedom: 2\n",
        "\n",
        "Error terms: 12\n",
        "\n",
        "Total DoF: 14"
      ],
      "metadata": {
        "id": "afXnGzdbFA3t"
      }
    },
    {
      "cell_type": "code",
      "source": [],
      "metadata": {
        "id": "HGYmEyDeTAnz"
      },
      "execution_count": null,
      "outputs": []
    },
    {
      "cell_type": "markdown",
      "source": [
        "7.05 Activity 4\n",
        "\n",
        "Activity 4 is actually the Part 2 in the Inferential statistics- ANOVA."
      ],
      "metadata": {
        "id": "6-UsqAxCSh_m"
      }
    },
    {
      "cell_type": "markdown",
      "source": [
        "Part 2\n",
        "\n",
        "In this section, use Python to conduct ANOVA.\n",
        "What conclusions can you draw from the experiment and why?"
      ],
      "metadata": {
        "id": "U-YvhISUZY5v"
      }
    },
    {
      "cell_type": "code",
      "source": [
        "import pandas as pd"
      ],
      "metadata": {
        "id": "Em_rs1k0Shv_"
      },
      "execution_count": null,
      "outputs": []
    },
    {
      "cell_type": "code",
      "source": [
        "data=pd.read_excel('anova_lab_data.xlsx',sheet_name='data_collected')\n",
        "data.columns=[c.lower().replace(' ', '_') for c in data.columns]\n",
        "data"
      ],
      "metadata": {
        "colab": {
          "base_uri": "https://localhost:8080/",
          "height": 519
        },
        "id": "cDg76nySey3X",
        "outputId": "c31430a2-1ba3-40f0-d8bd-f2d38a9ae88c"
      },
      "execution_count": null,
      "outputs": [
        {
          "output_type": "execute_result",
          "data": {
            "text/plain": [
              "   power_  etching_rate\n",
              "0   160 W          5.43\n",
              "1   180 W          6.24\n",
              "2   200 W          8.79\n",
              "3   160 W          5.71\n",
              "4   180 W          6.71\n",
              "5   200 W          9.20\n",
              "6   160 W          6.22\n",
              "7   180 W          5.98\n",
              "8   200 W          7.90\n",
              "9   160 W          6.01\n",
              "10  180 W          5.66\n",
              "11  200 W          8.15\n",
              "12  160 W          5.59\n",
              "13  180 W          6.60\n",
              "14  200 W          7.55"
            ],
            "text/html": [
              "\n",
              "  <div id=\"df-a9f8ec60-de23-4870-a59e-ed21ffaa5a26\">\n",
              "    <div class=\"colab-df-container\">\n",
              "      <div>\n",
              "<style scoped>\n",
              "    .dataframe tbody tr th:only-of-type {\n",
              "        vertical-align: middle;\n",
              "    }\n",
              "\n",
              "    .dataframe tbody tr th {\n",
              "        vertical-align: top;\n",
              "    }\n",
              "\n",
              "    .dataframe thead th {\n",
              "        text-align: right;\n",
              "    }\n",
              "</style>\n",
              "<table border=\"1\" class=\"dataframe\">\n",
              "  <thead>\n",
              "    <tr style=\"text-align: right;\">\n",
              "      <th></th>\n",
              "      <th>power_</th>\n",
              "      <th>etching_rate</th>\n",
              "    </tr>\n",
              "  </thead>\n",
              "  <tbody>\n",
              "    <tr>\n",
              "      <th>0</th>\n",
              "      <td>160 W</td>\n",
              "      <td>5.43</td>\n",
              "    </tr>\n",
              "    <tr>\n",
              "      <th>1</th>\n",
              "      <td>180 W</td>\n",
              "      <td>6.24</td>\n",
              "    </tr>\n",
              "    <tr>\n",
              "      <th>2</th>\n",
              "      <td>200 W</td>\n",
              "      <td>8.79</td>\n",
              "    </tr>\n",
              "    <tr>\n",
              "      <th>3</th>\n",
              "      <td>160 W</td>\n",
              "      <td>5.71</td>\n",
              "    </tr>\n",
              "    <tr>\n",
              "      <th>4</th>\n",
              "      <td>180 W</td>\n",
              "      <td>6.71</td>\n",
              "    </tr>\n",
              "    <tr>\n",
              "      <th>5</th>\n",
              "      <td>200 W</td>\n",
              "      <td>9.20</td>\n",
              "    </tr>\n",
              "    <tr>\n",
              "      <th>6</th>\n",
              "      <td>160 W</td>\n",
              "      <td>6.22</td>\n",
              "    </tr>\n",
              "    <tr>\n",
              "      <th>7</th>\n",
              "      <td>180 W</td>\n",
              "      <td>5.98</td>\n",
              "    </tr>\n",
              "    <tr>\n",
              "      <th>8</th>\n",
              "      <td>200 W</td>\n",
              "      <td>7.90</td>\n",
              "    </tr>\n",
              "    <tr>\n",
              "      <th>9</th>\n",
              "      <td>160 W</td>\n",
              "      <td>6.01</td>\n",
              "    </tr>\n",
              "    <tr>\n",
              "      <th>10</th>\n",
              "      <td>180 W</td>\n",
              "      <td>5.66</td>\n",
              "    </tr>\n",
              "    <tr>\n",
              "      <th>11</th>\n",
              "      <td>200 W</td>\n",
              "      <td>8.15</td>\n",
              "    </tr>\n",
              "    <tr>\n",
              "      <th>12</th>\n",
              "      <td>160 W</td>\n",
              "      <td>5.59</td>\n",
              "    </tr>\n",
              "    <tr>\n",
              "      <th>13</th>\n",
              "      <td>180 W</td>\n",
              "      <td>6.60</td>\n",
              "    </tr>\n",
              "    <tr>\n",
              "      <th>14</th>\n",
              "      <td>200 W</td>\n",
              "      <td>7.55</td>\n",
              "    </tr>\n",
              "  </tbody>\n",
              "</table>\n",
              "</div>\n",
              "      <button class=\"colab-df-convert\" onclick=\"convertToInteractive('df-a9f8ec60-de23-4870-a59e-ed21ffaa5a26')\"\n",
              "              title=\"Convert this dataframe to an interactive table.\"\n",
              "              style=\"display:none;\">\n",
              "        \n",
              "  <svg xmlns=\"http://www.w3.org/2000/svg\" height=\"24px\"viewBox=\"0 0 24 24\"\n",
              "       width=\"24px\">\n",
              "    <path d=\"M0 0h24v24H0V0z\" fill=\"none\"/>\n",
              "    <path d=\"M18.56 5.44l.94 2.06.94-2.06 2.06-.94-2.06-.94-.94-2.06-.94 2.06-2.06.94zm-11 1L8.5 8.5l.94-2.06 2.06-.94-2.06-.94L8.5 2.5l-.94 2.06-2.06.94zm10 10l.94 2.06.94-2.06 2.06-.94-2.06-.94-.94-2.06-.94 2.06-2.06.94z\"/><path d=\"M17.41 7.96l-1.37-1.37c-.4-.4-.92-.59-1.43-.59-.52 0-1.04.2-1.43.59L10.3 9.45l-7.72 7.72c-.78.78-.78 2.05 0 2.83L4 21.41c.39.39.9.59 1.41.59.51 0 1.02-.2 1.41-.59l7.78-7.78 2.81-2.81c.8-.78.8-2.07 0-2.86zM5.41 20L4 18.59l7.72-7.72 1.47 1.35L5.41 20z\"/>\n",
              "  </svg>\n",
              "      </button>\n",
              "      \n",
              "  <style>\n",
              "    .colab-df-container {\n",
              "      display:flex;\n",
              "      flex-wrap:wrap;\n",
              "      gap: 12px;\n",
              "    }\n",
              "\n",
              "    .colab-df-convert {\n",
              "      background-color: #E8F0FE;\n",
              "      border: none;\n",
              "      border-radius: 50%;\n",
              "      cursor: pointer;\n",
              "      display: none;\n",
              "      fill: #1967D2;\n",
              "      height: 32px;\n",
              "      padding: 0 0 0 0;\n",
              "      width: 32px;\n",
              "    }\n",
              "\n",
              "    .colab-df-convert:hover {\n",
              "      background-color: #E2EBFA;\n",
              "      box-shadow: 0px 1px 2px rgba(60, 64, 67, 0.3), 0px 1px 3px 1px rgba(60, 64, 67, 0.15);\n",
              "      fill: #174EA6;\n",
              "    }\n",
              "\n",
              "    [theme=dark] .colab-df-convert {\n",
              "      background-color: #3B4455;\n",
              "      fill: #D2E3FC;\n",
              "    }\n",
              "\n",
              "    [theme=dark] .colab-df-convert:hover {\n",
              "      background-color: #434B5C;\n",
              "      box-shadow: 0px 1px 3px 1px rgba(0, 0, 0, 0.15);\n",
              "      filter: drop-shadow(0px 1px 2px rgba(0, 0, 0, 0.3));\n",
              "      fill: #FFFFFF;\n",
              "    }\n",
              "  </style>\n",
              "\n",
              "      <script>\n",
              "        const buttonEl =\n",
              "          document.querySelector('#df-a9f8ec60-de23-4870-a59e-ed21ffaa5a26 button.colab-df-convert');\n",
              "        buttonEl.style.display =\n",
              "          google.colab.kernel.accessAllowed ? 'block' : 'none';\n",
              "\n",
              "        async function convertToInteractive(key) {\n",
              "          const element = document.querySelector('#df-a9f8ec60-de23-4870-a59e-ed21ffaa5a26');\n",
              "          const dataTable =\n",
              "            await google.colab.kernel.invokeFunction('convertToInteractive',\n",
              "                                                     [key], {});\n",
              "          if (!dataTable) return;\n",
              "\n",
              "          const docLinkHtml = 'Like what you see? Visit the ' +\n",
              "            '<a target=\"_blank\" href=https://colab.research.google.com/notebooks/data_table.ipynb>data table notebook</a>'\n",
              "            + ' to learn more about interactive tables.';\n",
              "          element.innerHTML = '';\n",
              "          dataTable['output_type'] = 'display_data';\n",
              "          await google.colab.output.renderOutput(dataTable, element);\n",
              "          const docLink = document.createElement('div');\n",
              "          docLink.innerHTML = docLinkHtml;\n",
              "          element.appendChild(docLink);\n",
              "        }\n",
              "      </script>\n",
              "    </div>\n",
              "  </div>\n",
              "  "
            ]
          },
          "metadata": {},
          "execution_count": 10
        }
      ]
    },
    {
      "cell_type": "code",
      "source": [
        "from statsmodels.formula.api import ols\n",
        "#ols('Var_Dep  ~ Vars_Inds',datos) aquí la virgulilla sirve para separar los tipos de vars\n",
        "\n",
        "#aquí entiende que Display_desing es continuo\n",
        "model=ols('etching_rate~power_', data=data).fit()\n",
        "\n",
        "#aquí entiende que Display_desing es una categoría\n",
        "model=ols('etching_rate~C(power_)', data=data).fit()"
      ],
      "metadata": {
        "id": "-FRXsZeDeyyi"
      },
      "execution_count": null,
      "outputs": []
    },
    {
      "cell_type": "code",
      "source": [
        "#Tabla ANOVA (Analysis of Variance)\n",
        "import statsmodels.api as sm\n",
        "tabla=sm.stats.anova_lm(model)\n",
        "tabla"
      ],
      "metadata": {
        "id": "-bfWgj6veyv3",
        "colab": {
          "base_uri": "https://localhost:8080/",
          "height": 112
        },
        "outputId": "ed5a223c-e1a2-4a07-f5bc-33580b9be406"
      },
      "execution_count": null,
      "outputs": [
        {
          "output_type": "execute_result",
          "data": {
            "text/plain": [
              "             df     sum_sq   mean_sq          F    PR(>F)\n",
              "C(power_)   2.0  18.176653  9.088327  36.878955  0.000008\n",
              "Residual   12.0   2.957240  0.246437        NaN       NaN"
            ],
            "text/html": [
              "\n",
              "  <div id=\"df-8100a23b-3f45-44a1-bddf-db8520991a72\">\n",
              "    <div class=\"colab-df-container\">\n",
              "      <div>\n",
              "<style scoped>\n",
              "    .dataframe tbody tr th:only-of-type {\n",
              "        vertical-align: middle;\n",
              "    }\n",
              "\n",
              "    .dataframe tbody tr th {\n",
              "        vertical-align: top;\n",
              "    }\n",
              "\n",
              "    .dataframe thead th {\n",
              "        text-align: right;\n",
              "    }\n",
              "</style>\n",
              "<table border=\"1\" class=\"dataframe\">\n",
              "  <thead>\n",
              "    <tr style=\"text-align: right;\">\n",
              "      <th></th>\n",
              "      <th>df</th>\n",
              "      <th>sum_sq</th>\n",
              "      <th>mean_sq</th>\n",
              "      <th>F</th>\n",
              "      <th>PR(&gt;F)</th>\n",
              "    </tr>\n",
              "  </thead>\n",
              "  <tbody>\n",
              "    <tr>\n",
              "      <th>C(power_)</th>\n",
              "      <td>2.0</td>\n",
              "      <td>18.176653</td>\n",
              "      <td>9.088327</td>\n",
              "      <td>36.878955</td>\n",
              "      <td>0.000008</td>\n",
              "    </tr>\n",
              "    <tr>\n",
              "      <th>Residual</th>\n",
              "      <td>12.0</td>\n",
              "      <td>2.957240</td>\n",
              "      <td>0.246437</td>\n",
              "      <td>NaN</td>\n",
              "      <td>NaN</td>\n",
              "    </tr>\n",
              "  </tbody>\n",
              "</table>\n",
              "</div>\n",
              "      <button class=\"colab-df-convert\" onclick=\"convertToInteractive('df-8100a23b-3f45-44a1-bddf-db8520991a72')\"\n",
              "              title=\"Convert this dataframe to an interactive table.\"\n",
              "              style=\"display:none;\">\n",
              "        \n",
              "  <svg xmlns=\"http://www.w3.org/2000/svg\" height=\"24px\"viewBox=\"0 0 24 24\"\n",
              "       width=\"24px\">\n",
              "    <path d=\"M0 0h24v24H0V0z\" fill=\"none\"/>\n",
              "    <path d=\"M18.56 5.44l.94 2.06.94-2.06 2.06-.94-2.06-.94-.94-2.06-.94 2.06-2.06.94zm-11 1L8.5 8.5l.94-2.06 2.06-.94-2.06-.94L8.5 2.5l-.94 2.06-2.06.94zm10 10l.94 2.06.94-2.06 2.06-.94-2.06-.94-.94-2.06-.94 2.06-2.06.94z\"/><path d=\"M17.41 7.96l-1.37-1.37c-.4-.4-.92-.59-1.43-.59-.52 0-1.04.2-1.43.59L10.3 9.45l-7.72 7.72c-.78.78-.78 2.05 0 2.83L4 21.41c.39.39.9.59 1.41.59.51 0 1.02-.2 1.41-.59l7.78-7.78 2.81-2.81c.8-.78.8-2.07 0-2.86zM5.41 20L4 18.59l7.72-7.72 1.47 1.35L5.41 20z\"/>\n",
              "  </svg>\n",
              "      </button>\n",
              "      \n",
              "  <style>\n",
              "    .colab-df-container {\n",
              "      display:flex;\n",
              "      flex-wrap:wrap;\n",
              "      gap: 12px;\n",
              "    }\n",
              "\n",
              "    .colab-df-convert {\n",
              "      background-color: #E8F0FE;\n",
              "      border: none;\n",
              "      border-radius: 50%;\n",
              "      cursor: pointer;\n",
              "      display: none;\n",
              "      fill: #1967D2;\n",
              "      height: 32px;\n",
              "      padding: 0 0 0 0;\n",
              "      width: 32px;\n",
              "    }\n",
              "\n",
              "    .colab-df-convert:hover {\n",
              "      background-color: #E2EBFA;\n",
              "      box-shadow: 0px 1px 2px rgba(60, 64, 67, 0.3), 0px 1px 3px 1px rgba(60, 64, 67, 0.15);\n",
              "      fill: #174EA6;\n",
              "    }\n",
              "\n",
              "    [theme=dark] .colab-df-convert {\n",
              "      background-color: #3B4455;\n",
              "      fill: #D2E3FC;\n",
              "    }\n",
              "\n",
              "    [theme=dark] .colab-df-convert:hover {\n",
              "      background-color: #434B5C;\n",
              "      box-shadow: 0px 1px 3px 1px rgba(0, 0, 0, 0.15);\n",
              "      filter: drop-shadow(0px 1px 2px rgba(0, 0, 0, 0.3));\n",
              "      fill: #FFFFFF;\n",
              "    }\n",
              "  </style>\n",
              "\n",
              "      <script>\n",
              "        const buttonEl =\n",
              "          document.querySelector('#df-8100a23b-3f45-44a1-bddf-db8520991a72 button.colab-df-convert');\n",
              "        buttonEl.style.display =\n",
              "          google.colab.kernel.accessAllowed ? 'block' : 'none';\n",
              "\n",
              "        async function convertToInteractive(key) {\n",
              "          const element = document.querySelector('#df-8100a23b-3f45-44a1-bddf-db8520991a72');\n",
              "          const dataTable =\n",
              "            await google.colab.kernel.invokeFunction('convertToInteractive',\n",
              "                                                     [key], {});\n",
              "          if (!dataTable) return;\n",
              "\n",
              "          const docLinkHtml = 'Like what you see? Visit the ' +\n",
              "            '<a target=\"_blank\" href=https://colab.research.google.com/notebooks/data_table.ipynb>data table notebook</a>'\n",
              "            + ' to learn more about interactive tables.';\n",
              "          element.innerHTML = '';\n",
              "          dataTable['output_type'] = 'display_data';\n",
              "          await google.colab.output.renderOutput(dataTable, element);\n",
              "          const docLink = document.createElement('div');\n",
              "          docLink.innerHTML = docLinkHtml;\n",
              "          element.appendChild(docLink);\n",
              "        }\n",
              "      </script>\n",
              "    </div>\n",
              "  </div>\n",
              "  "
            ]
          },
          "metadata": {},
          "execution_count": 13
        }
      ]
    },
    {
      "cell_type": "code",
      "source": [
        "\"\"\"\n",
        "Hay un p_value= 0.000008, probabilidad de que las categorias son diferentes entre si \n",
        "Se rechaza la hipotesis nula y se acepta la alternativa\n",
        "\"\"\""
      ],
      "metadata": {
        "id": "CrKTbGkUupLO"
      },
      "execution_count": null,
      "outputs": []
    },
    {
      "cell_type": "code",
      "source": [],
      "metadata": {
        "id": "f3oC2JGxuo_E"
      },
      "execution_count": null,
      "outputs": []
    },
    {
      "cell_type": "code",
      "source": [],
      "metadata": {
        "id": "p7qXhQuuStKG"
      },
      "execution_count": null,
      "outputs": []
    }
  ]
}